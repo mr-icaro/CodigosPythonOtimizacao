{
 "cells": [
  {
   "cell_type": "markdown",
   "id": "d6f43d11",
   "metadata": {},
   "source": [
    "Universidade Federal da Bahia\n",
    "\n",
    "Escola Politécnica\n",
    "\n",
    "Departamento de Engenharia Química\n",
    "\n",
    "Disciplina: Otimização de Processos – ENG654/ENGG11 (T01 P00)\n",
    "\n",
    "Docente: Márcio André Fernandes Martins (marciomartins@ufba.br)\n",
    "\n",
    "Discentes: Alan Macêdo (alam.rosato@ufba.br), Cliciane Silva (), Icaro Santos (icarobss@ufba.br)"
   ]
  },
  {
   "cell_type": "markdown",
   "id": "008d595e",
   "metadata": {
    "id": "008d595e"
   },
   "source": [
    "# Anexo Material didático "
   ]
  },
  {
   "cell_type": "markdown",
   "id": "671141b7",
   "metadata": {},
   "source": [
    "## Códigos em Python"
   ]
  },
  {
   "cell_type": "markdown",
   "id": "6d5cd67d",
   "metadata": {},
   "source": [
    "### Lista 01 - Otimização de Processos – ENG654/ENGG11 "
   ]
  },
  {
   "cell_type": "markdown",
   "id": "a11c2b52",
   "metadata": {
    "id": "a11c2b52"
   },
   "source": [
    "O primeiro passo é importar os pacotes necessários para nossos exemplos."
   ]
  },
  {
   "cell_type": "code",
   "execution_count": 2,
   "id": "88ee0909",
   "metadata": {
    "id": "88ee0909"
   },
   "outputs": [],
   "source": [
    "import numpy as np\n",
    "from scipy.optimize import minimize, linprog\n",
    "import matplotlib.pyplot as plt"
   ]
  },
  {
   "cell_type": "code",
   "execution_count": 6,
   "id": "1d0c754c",
   "metadata": {},
   "outputs": [
    {
     "name": "stdout",
     "output_type": "stream",
     "text": [
      "     con: array([0.])\n",
      "     fun: -4.0\n",
      " message: 'Optimization terminated successfully.'\n",
      "     nit: 4\n",
      "   slack: array([25.,  0., 10.,  0.])\n",
      "  status: 0\n",
      " success: True\n",
      "       x: array([ 5., 20., 25.])\n"
     ]
    }
   ],
   "source": [
    "# Questão 1 da lista 1 UFBA\n",
    "\n",
    "c = [-0.02,-0.07,-0.1]\n",
    "Aub = [[1,0,0],[-1,0,0],[0,-1,0],[-1,-1,1]]\n",
    "bub = [30,-5,-10,0]\n",
    "\n",
    "Aeq = [[1,1,1]]\n",
    "beq = [50]\n",
    "resultado1 = linprog(c,Aub,bub,Aeq,beq,bounds=(0,None), method='revised simplex', callback=None, options=None, x0=None)\n",
    "print(resultado1)"
   ]
  },
  {
   "cell_type": "code",
   "execution_count": 7,
   "id": "qgRxT9aVfr-N",
   "metadata": {
    "colab": {
     "base_uri": "https://localhost:8080/",
     "height": 295
    },
    "id": "qgRxT9aVfr-N",
    "outputId": "2e9ec2f9-13bb-46ba-849e-b14f71d5023d"
   },
   "outputs": [
    {
     "data": {
      "image/png": "[encoded data removed]",
      "text/plain": [
       "<Figure size 432x288 with 1 Axes>"
      ]
     },
     "metadata": {
      "needs_background": "light"
     },
     "output_type": "display_data"
    }
   ],
   "source": [
    "# Questão 2 da lista 1 UFBA - Gráfico\n",
    "    \n",
    "xa = np.linspace(0, 100, 2)  # atribuímos xa com valores de 0 a 100\n",
    "xb1 = (-4*xa + 250)/3         # primeira restrição\n",
    "xb2 = (-xa + 140)/2           # segunda restrição\n",
    "c = 30* np.ones(len(xa))      # terceira restriçao\n",
    "# plot\n",
    "fig, ax = plt.subplots()      # função para agrupar todas as restrições no mesmo gráfico\n",
    "\n",
    "ax.plot(xa,xb1,'k',linewidth=2.0)   # gráfico da primeira restrição na cor preta\n",
    "ax.plot(xa,xb2,'b', linewidth =2.0) # gráfico da segunda restrição na cor azul\n",
    "ax.plot(c,xa,'r', linewidth = 2.0)  # gráfico da terceira restrição na cor vermelha\n",
    "\n",
    "plt.title(\"Restrições\") # título do gráfico\n",
    "plt.xlabel('Xa')                    # adicionando nome no eixo da abscissa\n",
    "plt.ylabel('Xb')                    # adicionando nome no eixo da ordenada\n",
    "plt.grid()                          # adicionando a grade no gráfico\n",
    "plt.show()                          # função para visualizar o gráfico na tela"
   ]
  },
  {
   "cell_type": "code",
   "execution_count": 8,
   "id": "a23dd3ad",
   "metadata": {
    "id": "28b3db52"
   },
   "outputs": [
    {
     "name": "stdout",
     "output_type": "stream",
     "text": [
      "     con: array([], dtype=float64)\n",
      "     fun: -1900.0\n",
      " message: 'Optimization terminated successfully.'\n",
      "     nit: 3\n",
      "   slack: array([ 0.        ,  0.        , 23.33333333])\n",
      "  status: 0\n",
      " success: True\n",
      "       x: array([30.        , 43.33333333])\n"
     ]
    }
   ],
   "source": [
    "# Questão 2 da lista 1 UFBA\n",
    "c = [-20,-30]\n",
    "\n",
    "Aub = [[-1,0],[4,3],[1,2]]\n",
    "bub = [-30,250,140]\n",
    "\n",
    "resultado1 = linprog(c,Aub,bub,bounds=(0,None), method='simplex', callback=None, options=None, x0=None)\n",
    "print(resultado1)"
   ]
  },
  {
   "cell_type": "code",
   "execution_count": 9,
   "id": "Ylckd1Ewg4M_",
   "metadata": {
    "colab": {
     "base_uri": "https://localhost:8080/"
    },
    "id": "Ylckd1Ewg4M_",
    "outputId": "b46319d6-307d-4b58-c428-8c7aadb80bf2"
   },
   "outputs": [
    {
     "name": "stdout",
     "output_type": "stream",
     "text": [
      "     con: array([], dtype=float64)\n",
      "     fun: -29040.0\n",
      " message: 'Optimization terminated successfully.'\n",
      "     nit: 3\n",
      "   slack: array([  0., 144.,   0.])\n",
      "  status: 0\n",
      " success: True\n",
      "       x: array([192., 324.])\n"
     ]
    }
   ],
   "source": [
    "# Questão 3 da lista 1 UFBA\n",
    "c = [-50,-60]\n",
    "\n",
    "Aub = [[1,2],[5,4],[3,1]]\n",
    "bub = [14*60 ,40*60,15*60]\n",
    "\n",
    "resultado1 = linprog(c,Aub,bub,bounds=(0,None), method='simplex', callback=None, options=None, x0=None)\n",
    "print(resultado1)"
   ]
  },
  {
   "cell_type": "markdown",
   "id": "db173ac5",
   "metadata": {},
   "source": [
    " "
   ]
  },
  {
   "cell_type": "markdown",
   "id": "ad3603e2",
   "metadata": {},
   "source": [
    "### Lista de exercícios: Modelagem matemática Otimização Combinatória (UFGRS)"
   ]
  },
  {
   "cell_type": "markdown",
   "id": "80dc240e",
   "metadata": {},
   "source": [
    " "
   ]
  },
  {
   "cell_type": "code",
   "execution_count": 11,
   "id": "reNuITYkY-HF",
   "metadata": {
    "colab": {
     "base_uri": "https://localhost:8080/"
    },
    "id": "reNuITYkY-HF",
    "outputId": "fccf7d8a-3042-4401-af62-5da05e18aace"
   },
   "outputs": [
    {
     "name": "stdout",
     "output_type": "stream",
     "text": [
      "     con: array([], dtype=float64)\n",
      "     fun: -6000.0\n",
      " message: 'Optimization terminated successfully.'\n",
      "     nit: 2\n",
      "   slack: array([ 0., 25.,  0.])\n",
      "  status: 0\n",
      " success: True\n",
      "       x: array([15., 30.])\n"
     ]
    }
   ],
   "source": [
    "# Qestão 1 lista UFGRS\n",
    "\n",
    "c = [-100,-150]  \n",
    "\n",
    "Aub = [[2,3],[1,0],[0,1]]\n",
    "bub = [120,40,30]\n",
    "\n",
    "resultado1 = linprog(c,Aub,bub,bounds=None, method='revised simplex', callback=None, options=None, x0=None)\n",
    "print(resultado1)"
   ]
  },
  {
   "cell_type": "code",
   "execution_count": 12,
   "id": "ZAKDd1wy9vxP",
   "metadata": {
    "colab": {
     "base_uri": "https://localhost:8080/"
    },
    "id": "ZAKDd1wy9vxP",
    "outputId": "54907965-b5d7-425a-c503-1a6f4fd64255"
   },
   "outputs": [
    {
     "name": "stdout",
     "output_type": "stream",
     "text": [
      "     con: array([], dtype=float64)\n",
      "     fun: 8.0\n",
      " message: 'Optimization terminated successfully.'\n",
      "     nit: 2\n",
      "   slack: array([0., 0.])\n",
      "  status: 0\n",
      " success: True\n",
      "       x: array([1., 2.])\n"
     ]
    }
   ],
   "source": [
    "# Qestão 2 lista UFGRS\n",
    "\n",
    "c = [2,3]  \n",
    "\n",
    "Aub = [[-3,-6],[-10,-5]]\n",
    "bub = [-15,-20]\n",
    "\n",
    "resultado1 = linprog(c,Aub,bub,bounds=None, method='revised simplex', callback=None, options=None, x0=None)\n",
    "print(resultado1)"
   ]
  },
  {
   "cell_type": "code",
   "execution_count": 13,
   "id": "kY4LMr-w3EPl",
   "metadata": {
    "colab": {
     "base_uri": "https://localhost:8080/"
    },
    "id": "kY4LMr-w3EPl",
    "outputId": "48ef95bc-1797-4e0a-de14-78a6b7724cd9"
   },
   "outputs": [
    {
     "name": "stdout",
     "output_type": "stream",
     "text": [
      "     con: array([0., 0., 0., 0., 0.])\n",
      "     fun: -218000.0\n",
      " message: 'Optimization terminated successfully.'\n",
      "     nit: 7\n",
      "   slack: array([20.,  0.,  0., 40., 10., 30.])\n",
      "  status: 0\n",
      " success: True\n",
      "       x: array([10., 30., 50., 10., 60., 40.])\n"
     ]
    },
    {
     "name": "stderr",
     "output_type": "stream",
     "text": [
      "C:\\Users\\uic16210\\AppData\\Local\\Temp\\ipykernel_19380\\1211287238.py:19: OptimizeWarning: A_eq does not appear to be of full row rank. To improve performance, check the problem formulation for redundant equality constraints.\n",
      "  resultado1 = linprog(c,Aub,bub,Aeq,beq,bounds=None, method='revised simplex', callback=None, options=None, x0=None)\n"
     ]
    }
   ],
   "source": [
    "#Questão 03 lista UFRGS\n",
    "c = [-2000,-1700,-1600,-1100,-400,-800]  \n",
    "Aub = [[1,0,0,0,0,0],\\\n",
    "       [0,1,0,0,0,0],\\\n",
    "       [0,0,1,0,0,0],\\\n",
    "       [0,0,0,1,0,0],\\\n",
    "       [0,0,0,0,1,0],\\\n",
    "       [0,0,0,0,0,1]]\n",
    "\n",
    "bub = [30,30,50,50,70,70]\n",
    "\n",
    "Aeq = [[1,1,0,0,0,0],\\\n",
    "       [0,0,1,1,0,0],\\\n",
    "       [1,0,1,0,-1,0],\\\n",
    "       [0,1,0,1,0,-1],\\\n",
    "       [0,0,0,0,1,1]]\n",
    "\n",
    "beq = [40,60,0,0,100]\n",
    "\n",
    "\n",
    "resultado1 = linprog(c,Aub,bub,Aeq,beq,bounds=None, method='revised simplex', callback=None, options=None, x0=None)\n",
    "print(resultado1)"
   ]
  },
  {
   "cell_type": "code",
   "execution_count": 14,
   "id": "2bcUJgAK4P-5",
   "metadata": {
    "colab": {
     "base_uri": "https://localhost:8080/"
    },
    "id": "2bcUJgAK4P-5",
    "outputId": "886bdd2a-1a1f-4435-8380-c2098a0955ed"
   },
   "outputs": [
    {
     "name": "stdout",
     "output_type": "stream",
     "text": [
      "     con: array([], dtype=float64)\n",
      "     fun: 8.498666666666667\n",
      " message: 'Optimization terminated successfully.'\n",
      "     nit: 2\n",
      "   slack: array([4.00000000e-01, 1.11022302e-16, 0.00000000e+00, 1.91733333e+01])\n",
      "  status: 0\n",
      " success: True\n",
      "       x: array([0.44      , 0.        , 0.23733333])\n"
     ]
    }
   ],
   "source": [
    "# Qestão 4 lista UFGRS\n",
    "\n",
    "c = [15,20,8]  \n",
    "\n",
    "Aub = [[0.2,1,3],\n",
    "      [-0.2,-1,-3],\n",
    "      [-50,-9,0],\n",
    "      [0.8,2,2]]\n",
    "bub = [1.2,-0.8,-22,20]\n",
    "\n",
    "resultado1 = linprog(c,Aub,bub,bounds=None, method='revised simplex', callback=None, options=None, x0=None)\n",
    "print(resultado1)"
   ]
  },
  {
   "cell_type": "code",
   "execution_count": 15,
   "id": "F8Mym-uS_jDA",
   "metadata": {
    "colab": {
     "base_uri": "https://localhost:8080/"
    },
    "id": "F8Mym-uS_jDA",
    "outputId": "71170385-1fc9-4126-ff44-d71a11c034d3"
   },
   "outputs": [
    {
     "name": "stdout",
     "output_type": "stream",
     "text": [
      "     con: array([], dtype=float64)\n",
      "     fun: -42750.0\n",
      " message: 'Optimization terminated successfully.'\n",
      "     nit: 2\n",
      "   slack: array([1250.,    0.,    0.])\n",
      "  status: 0\n",
      " success: True\n",
      "       x: array([36.25,  0.  , 63.75])\n"
     ]
    }
   ],
   "source": [
    "# Qestão 5 lista UFGRS\n",
    "\n",
    "c = [-300,-400,-500]  \n",
    "\n",
    "Aub = [[0,100,200],\n",
    "      [0,100000,200000],\n",
    "       [1,1,1]]\n",
    "bub = [14000,12750000,100]\n",
    "\n",
    "resultado1 = linprog(c,Aub,bub,bounds=None, method='revised simplex', callback=None, options=None, x0=None)\n",
    "print(resultado1)\n"
   ]
  },
  {
   "cell_type": "code",
   "execution_count": 16,
   "id": "D7DgRsvtANxP",
   "metadata": {
    "colab": {
     "base_uri": "https://localhost:8080/"
    },
    "id": "D7DgRsvtANxP",
    "outputId": "528bd0c8-6b80-4e9e-f8c1-d60177add18c"
   },
   "outputs": [
    {
     "name": "stdout",
     "output_type": "stream",
     "text": [
      "     con: array([], dtype=float64)\n",
      "     fun: -290.0\n",
      " message: 'Optimization terminated successfully.'\n",
      "     nit: 2\n",
      "   slack: array([0., 0.])\n",
      "  status: 0\n",
      " success: True\n",
      "       x: array([0.75, 3.5 ])\n"
     ]
    }
   ],
   "source": [
    "# Qestão 6 lista UFGRS\n",
    "\n",
    "c = [-60,-70]  \n",
    "\n",
    "Aub = [[2,3],[2,1]]\n",
    "bub = [12,5]\n",
    "\n",
    "resultado1 = linprog(c,Aub,bub,bounds=None, method='revised simplex', callback=None, options=None, x0=None)\n",
    "print(resultado1)"
   ]
  },
  {
   "cell_type": "code",
   "execution_count": 17,
   "id": "qhoPmIg1Cp9H",
   "metadata": {
    "colab": {
     "base_uri": "https://localhost:8080/"
    },
    "id": "qhoPmIg1Cp9H",
    "outputId": "0326cb3a-9c48-4136-b865-7653514a0350"
   },
   "outputs": [
    {
     "name": "stdout",
     "output_type": "stream",
     "text": [
      "[5, 3.33, 2.5]\n",
      "     con: array([], dtype=float64)\n",
      "     fun: -418881.728\n",
      " message: 'Optimization terminated successfully.'\n",
      "     nit: 1\n",
      "   slack: array([2.91038305e-11, 1.79198400e+04, 3.77601600e+04, 0.00000000e+00,\n",
      "       0.00000000e+00])\n",
      "  status: 0\n",
      " success: True\n",
      "       x: array([37840.16,   240.  ,  4000.  ])\n"
     ]
    }
   ],
   "source": [
    "#Questão 07 lista UFRGS\n",
    "c = [-10.8,-4.2,-2.3]  \n",
    "\n",
    "\n",
    "Aub = [[5,3.33,2.5], [1,1,1],[-1,0,0],[0,-1,0],[0,0,-1]]\n",
    "\n",
    "print(Aub[0])\n",
    "\n",
    "bub = [200000,60000,-80,-240,-4000]\n",
    "\n",
    "resultado1 = linprog(c,Aub,bub,bounds=None, method='revised simplex', callback=None, options=None, x0=None)\n",
    "print(resultado1)"
   ]
  },
  {
   "cell_type": "code",
   "execution_count": 18,
   "id": "JGu7XgYNENLb",
   "metadata": {
    "colab": {
     "base_uri": "https://localhost:8080/"
    },
    "id": "JGu7XgYNENLb",
    "outputId": "10d02351-c294-443c-f83c-5d51c2228501"
   },
   "outputs": [
    {
     "name": "stdout",
     "output_type": "stream",
     "text": [
      "     con: array([], dtype=float64)\n",
      "     fun: 21420.0\n",
      " message: 'Optimization terminated successfully.'\n",
      "     nit: 4\n",
      "   slack: array([1.42108547e-14, 0.00000000e+00, 1.12000000e+02])\n",
      "  status: 0\n",
      " success: True\n",
      "       x: array([ 7., 21.])\n"
     ]
    }
   ],
   "source": [
    "# Qestão 8 lista UFGRS\n",
    "\n",
    "c = [900,720]  \n",
    "\n",
    "Aub = [[-6,-2],[-2,-2],[-4,-12]]\n",
    "bub = [-84,-56,-168]\n",
    "\n",
    "resultado1 = linprog(c,Aub,bub,bounds=None, method='revised simplex', callback=None, options=None, x0=None)\n",
    "print(resultado1)"
   ]
  },
  {
   "cell_type": "code",
   "execution_count": 19,
   "id": "KE8aRDX8HLCG",
   "metadata": {
    "colab": {
     "base_uri": "https://localhost:8080/"
    },
    "id": "KE8aRDX8HLCG",
    "outputId": "73ec84da-0d49-4888-9137-3ba6745460d2"
   },
   "outputs": [
    {
     "name": "stdout",
     "output_type": "stream",
     "text": [
      "     con: array([], dtype=float64)\n",
      "     fun: -10.0\n",
      " message: 'Optimization terminated successfully.'\n",
      "     nit: 3\n",
      "   slack: array([0.1, 0.7, 0. ])\n",
      "  status: 0\n",
      " success: True\n",
      "       x: array([ 0., 10.])\n"
     ]
    }
   ],
   "source": [
    "# Qestão 9 lista UFGRS\n",
    "\n",
    "c = [-1,-1]  \n",
    "\n",
    "Aub = [[-0.03,-0.04],[-0.03,-0.1],[1,1]]\n",
    "bub = [-0.3,-0.3,10]\n",
    "\n",
    "resultado1 = linprog(c,Aub,bub,bounds=None, method='revised simplex', callback=None, options=None, x0=None)\n",
    "print(resultado1)"
   ]
  },
  {
   "cell_type": "code",
   "execution_count": 22,
   "id": "PW5t_CoQHTiO",
   "metadata": {
    "id": "PW5t_CoQHTiO"
   },
   "outputs": [
    {
     "name": "stdout",
     "output_type": "stream",
     "text": [
      "     con: array([], dtype=float64)\n",
      "     fun: -70.0\n",
      " message: 'The problem appears infeasible, as the phase one auxiliary problem terminated successfully with a residual of 1.6e+02, greater than the tolerance 1e-12 required for the solution to be considered feasible. Consider increasing the tolerance to be greater than 1.6e+02. If this tolerance is unnaceptably large, the problem is likely infeasible.'\n",
      "     nit: 0\n",
      "   slack: array([-155.,    0.,    0.,    0.])\n",
      "  status: 2\n",
      " success: False\n",
      "       x: array([40., 15.,  0.])\n"
     ]
    }
   ],
   "source": [
    "# Qestão 10 lista UFGRS\n",
    "\n",
    "c = [-1,-2,-3]  \n",
    "\n",
    "Aub = [[1,1,1],[-1,0,0],[0,-1,0],[0,0,-1]]\n",
    "bub = [-100,-40,-15,0]\n",
    "\n",
    "resultado1 = linprog(c,Aub,bub,bounds=None, method='revised simplex', callback=None, options=None, x0=None)\n",
    "print(resultado1)"
   ]
  },
  {
   "cell_type": "code",
   "execution_count": null,
   "id": "bef39515",
   "metadata": {},
   "outputs": [],
   "source": []
  }
 ],
 "metadata": {
  "colab": {
   "collapsed_sections": [],
   "name": "Optimização_Resolução_lista_Q02.ipynb",
   "provenance": []
  },
  "kernelspec": {
   "display_name": "Python 3 (ipykernel)",
   "language": "python",
   "name": "python3"
  },
  "language_info": {
   "codemirror_mode": {
    "name": "ipython",
    "version": 3
   },
   "file_extension": ".py",
   "mimetype": "text/x-python",
   "name": "python",
   "nbconvert_exporter": "python",
   "pygments_lexer": "ipython3",
   "version": "3.9.6"
  }
 },
 "nbformat": 4,
 "nbformat_minor": 5
}
